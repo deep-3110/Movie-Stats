{
 "cells": [
  {
   "cell_type": "code",
   "execution_count": 19,
   "metadata": {},
   "outputs": [],
   "source": [
    "import flask\n",
    "#import difflib\n",
    "import pandas as pd\n",
    "from sklearn.feature_extraction.text import CountVectorizer\n",
    "from sklearn.metrics.pairwise import cosine_similarity\n",
    "import string"
   ]
  },
  {
   "cell_type": "code",
   "execution_count": 26,
   "metadata": {},
   "outputs": [],
   "source": [
    "def get_recommendation(title):\n",
    "    string.capwords(title)\n",
    "    movie_dataframe = pd.read_csv('../dataset/tmdb.csv')\n",
    "    count = CountVectorizer(stop_words='english')\n",
    "    count_matrix = count.fit_transform(df2['soup'])\n",
    "    cosine_sim2 = cosine_similarity(count_matrix, count_matrix)\n",
    "    movie_dataframe = movie_dataframe.reset_index()\n",
    "    indices = pd.Series(movie_dataframe.index, index=movie_dataframe['title'])\n",
    "    all_titles = [movie_dataframe['title'][i] for i in range(len(movie_dataframe['title']))]\n",
    "    cosine_sim = cosine_similarity(count_matrix, count_matrix)\n",
    "    idx = indices[title]\n",
    "    sim_scores = list(enumerate(cosine_sim[idx]))\n",
    "    sim_scores = sorted(sim_scores, key=lambda x: x[1], reverse=True)\n",
    "    sim_scores = sim_scores[1:11]\n",
    "    movie_indices = [i[0] for i in sim_scores]\n",
    "    titl = movie_dataframe['title'].iloc[movie_indices]\n",
    "    dat = movie_dataframe['release_date'].iloc[movie_indices]\n",
    "    overview=movie_dataframe['overview'].iloc[movie_indices]\n",
    "    voting=movie_dataframe['vote_average'].iloc[movie_indices]\n",
    "    return_df = pd.DataFrame(columns=['Title', 'Year','Overview','Rating'])\n",
    "    return_df['Title'] = titl\n",
    "    return_df['Year'] = dat\n",
    "    return_df['Overview']=overview\n",
    "    return_df['Rating']=voting\n",
    "    title=df['Title'].values.tolist()\n",
    "    year=df['Year'].values.tolist()\n",
    "    rating=df['Rating'].values.tolist()\n",
    "    overview=df['Overview'].values.tolist()\n",
    "    return return_df"
   ]
  },
  {
   "cell_type": "code",
   "execution_count": 31,
   "metadata": {},
   "outputs": [
    {
     "data": {
      "text/plain": [
       "10"
      ]
     },
     "execution_count": 31,
     "metadata": {},
     "output_type": "execute_result"
    }
   ],
   "source": [
    "df=get_recommendation(\"Avatar\")\n",
    "len(df)"
   ]
  },
  {
   "cell_type": "code",
   "execution_count": 30,
   "metadata": {},
   "outputs": [],
   "source": [
    "title=df['Title'].values.tolist()\n",
    "year=df['Year'].values.tolist()\n",
    "rating=df['Rating'].values.tolist()\n",
    "overview=df['Overview'].values.tolist()"
   ]
  },
  {
   "cell_type": "code",
   "execution_count": null,
   "metadata": {},
   "outputs": [],
   "source": []
  }
 ],
 "metadata": {
  "interpreter": {
   "hash": "601c97f1674c9f1df398f9be20b20ec61256efdc094da0575973e11b5b5b139c"
  },
  "kernelspec": {
   "display_name": "Python 3.8.10 64-bit",
   "name": "python3"
  },
  "language_info": {
   "codemirror_mode": {
    "name": "ipython",
    "version": 3
   },
   "file_extension": ".py",
   "mimetype": "text/x-python",
   "name": "python",
   "nbconvert_exporter": "python",
   "pygments_lexer": "ipython3",
   "version": "3.8.10"
  },
  "orig_nbformat": 4
 },
 "nbformat": 4,
 "nbformat_minor": 2
}
